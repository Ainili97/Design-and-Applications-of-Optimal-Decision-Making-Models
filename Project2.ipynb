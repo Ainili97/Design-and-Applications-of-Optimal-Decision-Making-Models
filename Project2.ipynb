{
 "cells": [
  {
   "cell_type": "markdown",
   "metadata": {},
   "source": [
    "# 最佳化決策模式設計與應用 \n",
    "# DESIGN AND APPLICATIONS OF OPTIMAL DECISION MAKING MODELS\n",
    "\n",
    "## Project 2\n",
    "### 李艾霓 / H24076095 / 國立成功大學 / 統計學系111級  \n",
    "\n",
    "#### 2019/06/27\n",
    "\n",
    "* **0 選題動機**\n",
    "* **1 問題描述及假設**\n",
    "* **2 參數設定**\n",
    "    * 2.1 載入預設參數\n",
    "    * 2.2 參數說明\n",
    "    * 2.3 寫入參數\n",
    "* **3 模型**\n",
    "    * 3.1 建立模型\n",
    "    * 3.2 設定變數\n",
    "    * 3.3 設定限制式\n",
    "    * 3.4 設定目標式\n",
    "    * 3.5 最佳化\n",
    "* **4 檢視結果及分析**\n",
    "    * 4.1 最佳值\n",
    "    * 4.2 每日人力分配\n",
    "* **5 Discussion**\n",
    "\n",
    "## 0. 選題動機\n",
    "　　由於比起虛構一個題目，自己更想找實際的例子來操作，因此詢問了身邊的朋友，而其中一個曾經在生技公司工作過一段時間的朋友給了我這樣的一個問題，這正是他當時獲得工作機會的情況。我請他估計了一些參數（如公司原有業務人數、成交價值、成交率等等），大多是符合真實情況的，最終我寫成這個模型。\n",
    "\n",
    "\n",
    "\n",
    "## 1. 問題描述及假設\n",
    "A公司主要販售的商品是實驗用抗體，主要的客群是學術單位如學校，因此對於業務員的分配都是學術單位。\n",
    "\n",
    "有鑑於新創生技公司與醫院內部創業的興起，生技公司與醫院也是潛在客戶群，但公司業務人力資源有限，故正考慮是否要再招募新的業務員，以協助新市場的開發。\n",
    "\n",
    "公司策略部門已對下週可能可以拜訪的客戶建立聯絡清單，故已知下週在各個市場可以接洽的單位數，而公司須考量原有員工及新聘業務員能力的不同，決定如何分配人力?是否要將一些業務員轉去跑生技公司與醫院?或是直接招募新的業務員來跑?\n",
    "\n",
    "- A公司內部已有8名業務員，且不打算解聘。\n",
    "- A公司每週最多可負擔的人力成本為 100,000。\n",
    "- 因需準備的內容不同，同一名業務一天內只能跑同一個市場內的業務。\n",
    "- 若某業務當天跑的市場內已沒有更多可接洽單位，業務可以提早下班，但同樣不能被分配去跑其他市場。\n",
    "- 若新聘僱員工，則須聘滿整週。\n",
    "\n",
    "根據上述的假設規則，A公司想知道：針對每個市場，下個禮拜週一至周五分別需分派幾位新、舊員工去進行業務工作。"
   ]
  },
  {
   "cell_type": "code",
   "execution_count": 1,
   "metadata": {},
   "outputs": [],
   "source": [
    "import pandas as pd\n",
    "from gurobipy import*"
   ]
  },
  {
   "cell_type": "markdown",
   "metadata": {},
   "source": [
    "## 2. 參數設定\n",
    "### 2.1 載入預設參數\n",
    "　　A公司依照過去的成交狀況，計算出了公司對於不同單位每筆成交的平均價值（成交平均價值），以及所有接洽終能成功完成交易的比率（原公司業務員成功率）,並評估出新聘僱業務員在未來一週對各個單位大略的成功率（新聘僱業務員成功率），如下表所示。"
   ]
  },
  {
   "cell_type": "code",
   "execution_count": 2,
   "metadata": {
    "scrolled": true
   },
   "outputs": [
    {
     "data": {
      "text/html": [
       "<div>\n",
       "<style scoped>\n",
       "    .dataframe tbody tr th:only-of-type {\n",
       "        vertical-align: middle;\n",
       "    }\n",
       "\n",
       "    .dataframe tbody tr th {\n",
       "        vertical-align: top;\n",
       "    }\n",
       "\n",
       "    .dataframe thead th {\n",
       "        text-align: right;\n",
       "    }\n",
       "</style>\n",
       "<table border=\"1\" class=\"dataframe\">\n",
       "  <thead>\n",
       "    <tr style=\"text-align: right;\">\n",
       "      <th></th>\n",
       "      <th>可跑單數</th>\n",
       "      <th>成交平均價值</th>\n",
       "      <th>原公司業務員成功率</th>\n",
       "      <th>新聘僱業務員成功率</th>\n",
       "    </tr>\n",
       "    <tr>\n",
       "      <th>市場</th>\n",
       "      <th></th>\n",
       "      <th></th>\n",
       "      <th></th>\n",
       "      <th></th>\n",
       "    </tr>\n",
       "  </thead>\n",
       "  <tbody>\n",
       "    <tr>\n",
       "      <th>學術單位</th>\n",
       "      <td>317</td>\n",
       "      <td>4000</td>\n",
       "      <td>0.20</td>\n",
       "      <td>0.120</td>\n",
       "    </tr>\n",
       "    <tr>\n",
       "      <th>生技公司</th>\n",
       "      <td>58</td>\n",
       "      <td>18000</td>\n",
       "      <td>0.15</td>\n",
       "      <td>0.100</td>\n",
       "    </tr>\n",
       "    <tr>\n",
       "      <th>醫院</th>\n",
       "      <td>10</td>\n",
       "      <td>50000</td>\n",
       "      <td>0.05</td>\n",
       "      <td>0.001</td>\n",
       "    </tr>\n",
       "  </tbody>\n",
       "</table>\n",
       "</div>"
      ],
      "text/plain": [
       "      可跑單數  成交平均價值  原公司業務員成功率  新聘僱業務員成功率\n",
       "市場                                      \n",
       "學術單位   317    4000       0.20      0.120\n",
       "生技公司    58   18000       0.15      0.100\n",
       "醫院      10   50000       0.05      0.001"
      ]
     },
     "execution_count": 2,
     "metadata": {},
     "output_type": "execute_result"
    }
   ],
   "source": [
    "sales = pd.read_csv('sales.csv',index_col=0)\n",
    "sales"
   ]
  },
  {
   "cell_type": "markdown",
   "metadata": {},
   "source": [
    "而下表則顯示了新舊僱員的週薪，以及他們能力範圍內，公司每日可以分派的接洽量（每日可跑單數）。"
   ]
  },
  {
   "cell_type": "code",
   "execution_count": 3,
   "metadata": {},
   "outputs": [
    {
     "data": {
      "text/html": [
       "<div>\n",
       "<style scoped>\n",
       "    .dataframe tbody tr th:only-of-type {\n",
       "        vertical-align: middle;\n",
       "    }\n",
       "\n",
       "    .dataframe tbody tr th {\n",
       "        vertical-align: top;\n",
       "    }\n",
       "\n",
       "    .dataframe thead th {\n",
       "        text-align: right;\n",
       "    }\n",
       "</style>\n",
       "<table border=\"1\" class=\"dataframe\">\n",
       "  <thead>\n",
       "    <tr style=\"text-align: right;\">\n",
       "      <th></th>\n",
       "      <th>週薪</th>\n",
       "      <th>每日可跑單數</th>\n",
       "    </tr>\n",
       "  </thead>\n",
       "  <tbody>\n",
       "    <tr>\n",
       "      <th>原公司業務員</th>\n",
       "      <td>8750</td>\n",
       "      <td>8</td>\n",
       "    </tr>\n",
       "    <tr>\n",
       "      <th>新聘僱業務員</th>\n",
       "      <td>7000</td>\n",
       "      <td>4</td>\n",
       "    </tr>\n",
       "  </tbody>\n",
       "</table>\n",
       "</div>"
      ],
      "text/plain": [
       "          週薪  每日可跑單數\n",
       "原公司業務員  8750       8\n",
       "新聘僱業務員  7000       4"
      ]
     },
     "execution_count": 3,
     "metadata": {},
     "output_type": "execute_result"
    }
   ],
   "source": [
    "sales2 = pd.read_csv('sales2.csv',index_col=0)\n",
    "sales2"
   ]
  },
  {
   "cell_type": "markdown",
   "metadata": {},
   "source": [
    "### 2.2 參數說明\n",
    "- i = 0,1 分別代表舊業務以及新業務\n",
    "- j = 0,1,2 分別代表學術單位、生技公司、醫院三種不同市場\n",
    "- t = 1,2,3,4,5 代表下週一至週五\n",
    "\n",
    "\n",
    "- R [ i, j] 表示第i種業務對第j種市場的成功率\n",
    "- Avaliable [ j] 表示下週第j種市場可接洽的總單位數\n",
    "- Value [ j] 表示第j種市場中平均一筆成交的價值。\n",
    "- Wage [ i] 表示第i種業務的週薪\n",
    "- Num [ i] 表示第i種業務每日最多可接洽量。\n",
    "\n",
    "### 2.3 寫入參數"
   ]
  },
  {
   "cell_type": "code",
   "execution_count": 4,
   "metadata": {},
   "outputs": [],
   "source": [
    "I = range(2)\n",
    "J = range(3)\n",
    "T = range(1,6)"
   ]
  },
  {
   "cell_type": "code",
   "execution_count": 5,
   "metadata": {},
   "outputs": [
    {
     "data": {
      "text/plain": [
       "{(0, 0): 0.2,\n",
       " (0, 1): 0.15,\n",
       " (0, 2): 0.05,\n",
       " (1, 0): 0.12,\n",
       " (1, 1): 0.1,\n",
       " (1, 2): 0.001}"
      ]
     },
     "execution_count": 5,
     "metadata": {},
     "output_type": "execute_result"
    }
   ],
   "source": [
    "R = {}\n",
    "for i in I:\n",
    "    for j in J:\n",
    "        R[i,j] = sales.iat[j,i+2]\n",
    "R"
   ]
  },
  {
   "cell_type": "code",
   "execution_count": 6,
   "metadata": {},
   "outputs": [],
   "source": [
    "Avaliable = {}\n",
    "Value = {}\n",
    "for j in J:\n",
    "    Avaliable[j] = sales.iat[j,0]\n",
    "    Value[j] = sales.iat[j,1]"
   ]
  },
  {
   "cell_type": "code",
   "execution_count": 7,
   "metadata": {},
   "outputs": [
    {
     "data": {
      "text/plain": [
       "{0: 317, 1: 58, 2: 10}"
      ]
     },
     "execution_count": 7,
     "metadata": {},
     "output_type": "execute_result"
    }
   ],
   "source": [
    "Avaliable"
   ]
  },
  {
   "cell_type": "code",
   "execution_count": 8,
   "metadata": {},
   "outputs": [
    {
     "data": {
      "text/plain": [
       "{0: 4000, 1: 18000, 2: 50000}"
      ]
     },
     "execution_count": 8,
     "metadata": {},
     "output_type": "execute_result"
    }
   ],
   "source": [
    "Value"
   ]
  },
  {
   "cell_type": "code",
   "execution_count": 9,
   "metadata": {},
   "outputs": [],
   "source": [
    "Wage = {}\n",
    "Num = {}\n",
    "for i in I:\n",
    "    Wage[i] = sales2.iat[i,0]\n",
    "    Num[i] = sales2.iat[i,1]"
   ]
  },
  {
   "cell_type": "code",
   "execution_count": 10,
   "metadata": {},
   "outputs": [
    {
     "data": {
      "text/plain": [
       "{0: 8750, 1: 7000}"
      ]
     },
     "execution_count": 10,
     "metadata": {},
     "output_type": "execute_result"
    }
   ],
   "source": [
    "Wage"
   ]
  },
  {
   "cell_type": "code",
   "execution_count": 11,
   "metadata": {},
   "outputs": [
    {
     "data": {
      "text/plain": [
       "{0: 8, 1: 4}"
      ]
     },
     "execution_count": 11,
     "metadata": {},
     "output_type": "execute_result"
    }
   ],
   "source": [
    "Num"
   ]
  },
  {
   "cell_type": "markdown",
   "metadata": {},
   "source": [
    "## 3. 模型\n",
    "### 3.1 建立模型"
   ]
  },
  {
   "cell_type": "code",
   "execution_count": 12,
   "metadata": {},
   "outputs": [
    {
     "name": "stdout",
     "output_type": "stream",
     "text": [
      "Academic license - for non-commercial use only\n"
     ]
    }
   ],
   "source": [
    "model = Model('Sales')"
   ]
  },
  {
   "cell_type": "markdown",
   "metadata": {},
   "source": [
    "### 3.2 設定變數\n",
    "- x [ i, j, t] 表示第t天、第j種市場，要分派多少名第i種業務\n",
    "- rell_num [ i, j, t] 表示表示第t天、第j種市場、第i種業務實際接洽的總數"
   ]
  },
  {
   "cell_type": "code",
   "execution_count": 13,
   "metadata": {},
   "outputs": [],
   "source": [
    "x = {}\n",
    "real_num = {}\n",
    "for i in I:\n",
    "    for j in J:\n",
    "        for t in T:\n",
    "            x[i,j,t] = model.addVar(vtype='I', name='x%d%d%d'%(i,j,t))\n",
    "            real_num[i,j,t] = model.addVar(vtype='I', name='n%d%d%d'%(i,j,t))"
   ]
  },
  {
   "cell_type": "code",
   "execution_count": 14,
   "metadata": {},
   "outputs": [],
   "source": [
    "# 順便算出一週總薪資以便限制式使用\n",
    "Total_wage = 8*Wage[0]+quicksum(x[1,j,1] for j in J)*Wage[1]"
   ]
  },
  {
   "cell_type": "code",
   "execution_count": 15,
   "metadata": {},
   "outputs": [],
   "source": [
    "model.update()"
   ]
  },
  {
   "cell_type": "markdown",
   "metadata": {},
   "source": [
    "### 3.3 設定限制式"
   ]
  },
  {
   "cell_type": "code",
   "execution_count": 16,
   "metadata": {},
   "outputs": [],
   "source": [
    "# 舊有業務固定8名\n",
    "for t in T:\n",
    "    model.addConstr(quicksum(x[0,j,t] for j in J) == 8)"
   ]
  },
  {
   "cell_type": "code",
   "execution_count": 17,
   "metadata": {},
   "outputs": [],
   "source": [
    "# 新聘業務需聘整周(人數固定)\n",
    "for t in T:\n",
    "    model.addConstr(quicksum(x[1,j,t] for j in J)-quicksum(x[1,j,1] for j in J) == 0)"
   ]
  },
  {
   "cell_type": "code",
   "execution_count": 18,
   "metadata": {},
   "outputs": [
    {
     "data": {
      "text/plain": [
       "<gurobi.Constr *Awaiting Model Update*>"
      ]
     },
     "execution_count": 18,
     "metadata": {},
     "output_type": "execute_result"
    }
   ],
   "source": [
    "# 一週最大人力成本為十萬元\n",
    "model.addConstr(Total_wage <= 100000)"
   ]
  },
  {
   "cell_type": "code",
   "execution_count": 19,
   "metadata": {},
   "outputs": [],
   "source": [
    "# 每種市場實際接洽的總量 <= 跑該市場業務人數 * 最大接洽量\n",
    "for i,j,t in real_num:\n",
    "    model.addConstr(real_num[i,j,t]-x[i,j,t]*Num[i] <= 0)"
   ]
  },
  {
   "cell_type": "code",
   "execution_count": 20,
   "metadata": {},
   "outputs": [],
   "source": [
    "# 每個市場有最多可接洽數\n",
    "for j in J:\n",
    "    n = 0\n",
    "    for i in I:\n",
    "        for t in T:\n",
    "            n += real_num[i,j,t]\n",
    "    model.addConstr(n <= Avaliable[j])"
   ]
  },
  {
   "cell_type": "markdown",
   "metadata": {},
   "source": [
    "### 3.4 設定目標式\n",
    "目標為最大化下週獲利（假設其他成本為固定常數，可忽略不影響模型）"
   ]
  },
  {
   "cell_type": "code",
   "execution_count": 21,
   "metadata": {},
   "outputs": [],
   "source": [
    "earn = quicksum(real_num[i,j,t]*R[i,j]*Value[j] for (i,j,t) in x)"
   ]
  },
  {
   "cell_type": "code",
   "execution_count": 22,
   "metadata": {},
   "outputs": [],
   "source": [
    "cost = Total_wage"
   ]
  },
  {
   "cell_type": "code",
   "execution_count": 23,
   "metadata": {},
   "outputs": [],
   "source": [
    "profit = earn - cost\n",
    "model.setObjective(profit,GRB.MAXIMIZE)"
   ]
  },
  {
   "cell_type": "markdown",
   "metadata": {},
   "source": [
    "### 3.5 最佳化"
   ]
  },
  {
   "cell_type": "code",
   "execution_count": 24,
   "metadata": {},
   "outputs": [
    {
     "name": "stdout",
     "output_type": "stream",
     "text": [
      "Optimize a model with 44 rows, 60 columns and 132 nonzeros\n",
      "Variable types: 0 continuous, 60 integer (0 binary)\n",
      "Coefficient statistics:\n",
      "  Matrix range     [1e+00, 7e+03]\n",
      "  Objective range  [5e+01, 7e+03]\n",
      "  Bounds range     [0e+00, 0e+00]\n",
      "  RHS range        [8e+00, 3e+04]\n",
      "Found heuristic solution: objective 6200.0000000\n",
      "Presolve removed 10 rows and 9 columns\n",
      "Presolve time: 0.00s\n",
      "Presolved: 34 rows, 51 columns, 114 nonzeros\n",
      "Variable types: 0 continuous, 51 integer (0 binary)\n",
      "\n",
      "Root relaxation: objective 3.216500e+05, 26 iterations, 0.00 seconds\n",
      "\n",
      "    Nodes    |    Current Node    |     Objective Bounds      |     Work\n",
      " Expl Unexpl |  Obj  Depth IntInf | Incumbent    BestBd   Gap | It/Node Time\n",
      "\n",
      "     0     0 321650.000    0    3 6200.00000 321650.000  5088%     -    0s\n",
      "H    0     0                    314680.00000 321650.000  2.21%     -    0s\n",
      "H    0     0                    315480.00000 321650.000  1.96%     -    0s\n",
      "     0     0 321000.000    0    2 315480.000 321000.000  1.75%     -    0s\n",
      "     0     0 321000.000    0    2 315480.000 321000.000  1.75%     -    0s\n",
      "     0     0 321000.000    0    2 315480.000 321000.000  1.75%     -    0s\n",
      "     0     2 321000.000    0    2 315480.000 321000.000  1.75%     -    0s\n",
      "\n",
      "Cutting planes:\n",
      "  Gomory: 2\n",
      "  MIR: 4\n",
      "\n",
      "Explored 1069 nodes (1670 simplex iterations) in 0.24 seconds\n",
      "Thread count was 4 (of 4 available processors)\n",
      "\n",
      "Solution count 3: 315480 314680 6200 \n",
      "\n",
      "Optimal solution found (tolerance 1.00e-04)\n",
      "Best objective 3.154800000000e+05, best bound 3.154800000000e+05, gap 0.0000%\n"
     ]
    }
   ],
   "source": [
    "model.optimize()"
   ]
  },
  {
   "cell_type": "markdown",
   "metadata": {},
   "source": [
    "## 4. 檢視結果及分析\n",
    "### 4.1 最佳值\n",
    "減去其他成本即為當週獲利"
   ]
  },
  {
   "cell_type": "code",
   "execution_count": 25,
   "metadata": {},
   "outputs": [
    {
     "data": {
      "text/plain": [
       "315480.0"
      ]
     },
     "execution_count": 25,
     "metadata": {},
     "output_type": "execute_result"
    }
   ],
   "source": [
    "model.ObjVal"
   ]
  },
  {
   "cell_type": "markdown",
   "metadata": {},
   "source": [
    "### 4.2 每日人力分配"
   ]
  },
  {
   "cell_type": "code",
   "execution_count": 29,
   "metadata": {},
   "outputs": [],
   "source": [
    "result = {}\n",
    "for i in I:\n",
    "    ls = []\n",
    "    for j in J:\n",
    "        sub = []\n",
    "        for t in T:\n",
    "            sub.append(int(x[i,j,t].X))\n",
    "        ls.append(sub)\n",
    "    result[i] = ls\n",
    "df0 = pd.DataFrame(result[0], index=sales.index, columns=['Mon','Tue','Wen','Thu','Fri'])\n",
    "df1 = pd.DataFrame(result[1], index=sales.index, columns=df0.columns)"
   ]
  },
  {
   "cell_type": "markdown",
   "metadata": {},
   "source": [
    "#### 舊有業務員一週分配"
   ]
  },
  {
   "cell_type": "code",
   "execution_count": 30,
   "metadata": {},
   "outputs": [
    {
     "data": {
      "text/html": [
       "<div>\n",
       "<style scoped>\n",
       "    .dataframe tbody tr th:only-of-type {\n",
       "        vertical-align: middle;\n",
       "    }\n",
       "\n",
       "    .dataframe tbody tr th {\n",
       "        vertical-align: top;\n",
       "    }\n",
       "\n",
       "    .dataframe thead th {\n",
       "        text-align: right;\n",
       "    }\n",
       "</style>\n",
       "<table border=\"1\" class=\"dataframe\">\n",
       "  <thead>\n",
       "    <tr style=\"text-align: right;\">\n",
       "      <th></th>\n",
       "      <th>Mon</th>\n",
       "      <th>Tue</th>\n",
       "      <th>Wen</th>\n",
       "      <th>Thu</th>\n",
       "      <th>Fri</th>\n",
       "    </tr>\n",
       "    <tr>\n",
       "      <th>市場</th>\n",
       "      <th></th>\n",
       "      <th></th>\n",
       "      <th></th>\n",
       "      <th></th>\n",
       "      <th></th>\n",
       "    </tr>\n",
       "  </thead>\n",
       "  <tbody>\n",
       "    <tr>\n",
       "      <th>學術單位</th>\n",
       "      <td>8</td>\n",
       "      <td>7</td>\n",
       "      <td>1</td>\n",
       "      <td>8</td>\n",
       "      <td>8</td>\n",
       "    </tr>\n",
       "    <tr>\n",
       "      <th>生技公司</th>\n",
       "      <td>0</td>\n",
       "      <td>0</td>\n",
       "      <td>7</td>\n",
       "      <td>0</td>\n",
       "      <td>0</td>\n",
       "    </tr>\n",
       "    <tr>\n",
       "      <th>醫院</th>\n",
       "      <td>0</td>\n",
       "      <td>1</td>\n",
       "      <td>0</td>\n",
       "      <td>0</td>\n",
       "      <td>0</td>\n",
       "    </tr>\n",
       "  </tbody>\n",
       "</table>\n",
       "</div>"
      ],
      "text/plain": [
       "      Mon  Tue  Wen  Thu  Fri\n",
       "市場                           \n",
       "學術單位    8    7    1    8    8\n",
       "生技公司    0    0    7    0    0\n",
       "醫院      0    1    0    0    0"
      ]
     },
     "execution_count": 30,
     "metadata": {},
     "output_type": "execute_result"
    }
   ],
   "source": [
    "df0"
   ]
  },
  {
   "cell_type": "markdown",
   "metadata": {},
   "source": [
    "#### 新聘僱業務員一週分配"
   ]
  },
  {
   "cell_type": "code",
   "execution_count": 31,
   "metadata": {},
   "outputs": [
    {
     "data": {
      "text/html": [
       "<div>\n",
       "<style scoped>\n",
       "    .dataframe tbody tr th:only-of-type {\n",
       "        vertical-align: middle;\n",
       "    }\n",
       "\n",
       "    .dataframe tbody tr th {\n",
       "        vertical-align: top;\n",
       "    }\n",
       "\n",
       "    .dataframe thead th {\n",
       "        text-align: right;\n",
       "    }\n",
       "</style>\n",
       "<table border=\"1\" class=\"dataframe\">\n",
       "  <thead>\n",
       "    <tr style=\"text-align: right;\">\n",
       "      <th></th>\n",
       "      <th>Mon</th>\n",
       "      <th>Tue</th>\n",
       "      <th>Wen</th>\n",
       "      <th>Thu</th>\n",
       "      <th>Fri</th>\n",
       "    </tr>\n",
       "    <tr>\n",
       "      <th>市場</th>\n",
       "      <th></th>\n",
       "      <th></th>\n",
       "      <th></th>\n",
       "      <th></th>\n",
       "      <th></th>\n",
       "    </tr>\n",
       "  </thead>\n",
       "  <tbody>\n",
       "    <tr>\n",
       "      <th>學術單位</th>\n",
       "      <td>2</td>\n",
       "      <td>3</td>\n",
       "      <td>3</td>\n",
       "      <td>3</td>\n",
       "      <td>3</td>\n",
       "    </tr>\n",
       "    <tr>\n",
       "      <th>生技公司</th>\n",
       "      <td>1</td>\n",
       "      <td>0</td>\n",
       "      <td>0</td>\n",
       "      <td>0</td>\n",
       "      <td>0</td>\n",
       "    </tr>\n",
       "    <tr>\n",
       "      <th>醫院</th>\n",
       "      <td>0</td>\n",
       "      <td>0</td>\n",
       "      <td>0</td>\n",
       "      <td>0</td>\n",
       "      <td>0</td>\n",
       "    </tr>\n",
       "  </tbody>\n",
       "</table>\n",
       "</div>"
      ],
      "text/plain": [
       "      Mon  Tue  Wen  Thu  Fri\n",
       "市場                           \n",
       "學術單位    2    3    3    3    3\n",
       "生技公司    1    0    0    0    0\n",
       "醫院      0    0    0    0    0"
      ]
     },
     "execution_count": 31,
     "metadata": {},
     "output_type": "execute_result"
    }
   ],
   "source": [
    "df1"
   ]
  },
  {
   "cell_type": "markdown",
   "metadata": {},
   "source": [
    "## 5. Discussion\n",
    "　　舊有業務員對生技公司的獲利最高，但因有剩餘零星的可接洽案件，比起讓舊有業務花一整天跑，派一位新聘僱業務處理完剩餘案件更具有比較利益，因此仍有一位新業務在其中一天被派去生技公司的市場。\n",
    "  \n",
    "　　醫院因其特性而有非常高的平均獲利，但成交率很低（尤其是對於新業務員），雖然還剩下兩個案件，但並不值得再多分派一位員工。\n",
    "  \n",
    "　　而學術單位的期望獲利雖然較另外兩者低，但仍高於聘請新業務員的薪資，因此仍驅使A公司多聘請了3位業務員來增加業務量，並且，尚未到達A公司人力成本的上限（上限是新聘請4位新業務）。\n",
    "\n",
    "　　A公司最終決定將部分舊業務員分配到新市場，而多聘僱了3位新業務員來彌補原本在學術單位的空缺，可見新市場確實有其開發價值，且由舊業務來開發較為合適，而原本在學術單位的市場即使分配給新的員工也是對公司有益的。\n",
    "\n",
    "　　回到現實生活中，給出這個問題的那位朋友表示，當時A公司只招募了他一位新員工，但後來也持續在面試新人，或許確實是還處於缺人狀態沒錯，只不過一直沒有找到合適人選，若有適合的求職者，是有可能再增加新員工的，與模型的結果還算是相符。"
   ]
  }
 ],
 "metadata": {
  "kernelspec": {
   "display_name": "Python 3",
   "language": "python",
   "name": "python3"
  },
  "language_info": {
   "codemirror_mode": {
    "name": "ipython",
    "version": 3
   },
   "file_extension": ".py",
   "mimetype": "text/x-python",
   "name": "python",
   "nbconvert_exporter": "python",
   "pygments_lexer": "ipython3",
   "version": "3.7.5"
  }
 },
 "nbformat": 4,
 "nbformat_minor": 2
}
